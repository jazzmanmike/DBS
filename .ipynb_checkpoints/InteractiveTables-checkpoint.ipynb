{
 "cells": [
  {
   "cell_type": "markdown",
   "metadata": {},
   "source": [
    "# Interactive Tables"
   ]
  },
  {
   "cell_type": "code",
   "execution_count": null,
   "metadata": {},
   "outputs": [],
   "source": [
    "#some advanced code for making interactive tables \n",
    "#thanks to Marek Cermak for making this available (see below)\n",
    "\n",
    "\"\"\"\n",
    "Copyright 2019, Marek Cermak\n",
    "Permission is hereby granted, free of charge, to any person obtaining a copy of this software and associated documentation files (the \"Software\"), to deal in the Software without restriction, including without limitation the rights to use, copy, modify, merge, publish, distribute, sublicense, and/or sell copies of the Software, and to permit persons to whom the Software is furnished to do so, subject to the following conditions:\n",
    "The above copyright notice and this permission notice shall be included in all copies or substantial portions of the Software.\n",
    "THE SOFTWARE IS PROVIDED \"AS IS\", WITHOUT WARRANTY OF ANY KIND, EXPRESS OR IMPLIED, INCLUDING BUT NOT LIMITED TO THE WARRANTIES OF MERCHANTABILITY, FITNESS FOR A PARTICULAR PURPOSE AND NONINFRINGEMENT. IN NO EVENT SHALL THE AUTHORS OR COPYRIGHT HOLDERS BE LIABLE FOR ANY CLAIM, DAMAGES OR OTHER LIABILITY, WHETHER IN AN ACTION OF CONTRACT, TORT OR OTHERWISE, ARISING FROM, OUT OF OR IN CONNECTION WITH THE SOFTWARE OR THE USE OR OTHER DEALINGS IN THE SOFTWARE.\n",
    "\"\"\"\n",
    "\n",
    "def init_datatable_mode():\n",
    "    \"\"\"Initialize DataTable mode for pandas DataFrame represenation.\"\"\"\n",
    "    import pandas as pd\n",
    "    from IPython.core.display import display, Javascript\n",
    "\n",
    "    # configure path to the datatables library using requireJS\n",
    "    # that way the library will become globally available\n",
    "    display(Javascript(\"\"\"\n",
    "        require.config({\n",
    "            paths: {\n",
    "                DT: '//cdn.datatables.net/1.10.19/js/jquery.dataTables.min',\n",
    "            }\n",
    "        });\n",
    "        $('head').append('<link rel=\"stylesheet\" type=\"text/css\" href=\"//cdn.datatables.net/1.10.19/css/jquery.dataTables.min.css\">');\n",
    "    \"\"\"))\n",
    "\n",
    "    def _repr_datatable_(self):\n",
    "        \"\"\"Return DataTable representation of pandas DataFrame.\"\"\"\n",
    "        # classes for dataframe table (optional)\n",
    "        classes = ['table', 'table-striped', 'table-bordered']\n",
    "\n",
    "        # create table DOM\n",
    "        script = (\n",
    "            f'$(element).html(`{self.to_html(index=False, classes=classes)}`);\\n'\n",
    "        )\n",
    "\n",
    "        # execute jQuery to turn table into DataTable\n",
    "        script += \"\"\"\n",
    "            require([\"DT\"], function(DT) {\n",
    "                $(document).ready( () => {\n",
    "                    // Turn existing table into datatable\n",
    "                    $(element).find(\"table.dataframe\").DataTable();\n",
    "                })\n",
    "            });\n",
    "        \"\"\"\n",
    "\n",
    "        return script\n",
    "\n",
    "    pd.DataFrame._repr_javascript_ = _repr_datatable_"
   ]
  },
  {
   "cell_type": "code",
   "execution_count": null,
   "metadata": {},
   "outputs": [],
   "source": [
    "#Initiate and run with whatever table is selected\n",
    "init_datatable_mode()  # initialize [DataTables]"
   ]
  }
 ],
 "metadata": {
  "kernelspec": {
   "display_name": "Python 3",
   "language": "python",
   "name": "python3"
  },
  "language_info": {
   "codemirror_mode": {
    "name": "ipython",
    "version": 3
   },
   "file_extension": ".py",
   "mimetype": "text/x-python",
   "name": "python",
   "nbconvert_exporter": "python",
   "pygments_lexer": "ipython3",
   "version": "3.7.6"
  }
 },
 "nbformat": 4,
 "nbformat_minor": 4
}
